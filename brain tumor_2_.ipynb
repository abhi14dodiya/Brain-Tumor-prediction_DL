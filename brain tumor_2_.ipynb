{
 "cells": [
  {
   "cell_type": "code",
   "execution_count": 1,
   "metadata": {
    "executionInfo": {
     "elapsed": 670,
     "status": "ok",
     "timestamp": 1637684003307,
     "user": {
      "displayName": "Abhishek Dodiya",
      "photoUrl": "https://lh3.googleusercontent.com/a/default-user=s64",
      "userId": "09729067614213961998"
     },
     "user_tz": -330
    },
    "id": "3RwmptbJA5ZZ"
   },
   "outputs": [],
   "source": [
    "path = \"/content/drive/MyDrive/practice folder/brain tumor/archive/brain_tumor_1500\""
   ]
  },
  {
   "cell_type": "code",
   "execution_count": 2,
   "metadata": {
    "executionInfo": {
     "elapsed": 18,
     "status": "ok",
     "timestamp": 1637684004174,
     "user": {
      "displayName": "Abhishek Dodiya",
      "photoUrl": "https://lh3.googleusercontent.com/a/default-user=s64",
      "userId": "09729067614213961998"
     },
     "user_tz": -330
    },
    "id": "Xei6lu9qBaBU"
   },
   "outputs": [],
   "source": [
    "import warnings\n",
    "warnings.filterwarnings(\"ignore\")"
   ]
  },
  {
   "cell_type": "code",
   "execution_count": 3,
   "metadata": {
    "executionInfo": {
     "elapsed": 17,
     "status": "ok",
     "timestamp": 1637684004176,
     "user": {
      "displayName": "Abhishek Dodiya",
      "photoUrl": "https://lh3.googleusercontent.com/a/default-user=s64",
      "userId": "09729067614213961998"
     },
     "user_tz": -330
    },
    "id": "IhHZod6dBsAW"
   },
   "outputs": [],
   "source": [
    "import numpy as np\n",
    "import os\n",
    "import matplotlib.pyplot as plt\n",
    "import math\n",
    "import shutil\n",
    "import glob"
   ]
  },
  {
   "cell_type": "code",
   "execution_count": 4,
   "metadata": {
    "colab": {
     "base_uri": "https://localhost:8080/"
    },
    "executionInfo": {
     "elapsed": 5598,
     "status": "ok",
     "timestamp": 1637684009757,
     "user": {
      "displayName": "Abhishek Dodiya",
      "photoUrl": "https://lh3.googleusercontent.com/a/default-user=s64",
      "userId": "09729067614213961998"
     },
     "user_tz": -330
    },
    "id": "JAK2piUNBxNc",
    "outputId": "ac1e24a7-78e8-4b80-ff56-9812af4d0d8d"
   },
   "outputs": [
    {
     "data": {
      "text/plain": [
       "dict_items([('brain_tumer_yes', 1045), ('brain_tumer_no', 1045)])"
      ]
     },
     "execution_count": 4,
     "metadata": {},
     "output_type": "execute_result"
    }
   ],
   "source": [
    "#count no of images of each class 0 is infeected and 1 is not\n",
    "#root_dir = \"/content/drive/MyDrive/practice folder/brain tumor/archive/brain_tumor_1500\" #location of file orignal data set   \n",
    "# since we have done upper part so many time we have made seprate folder for train ,test and , val in drive  that is belove link\n",
    "\n",
    "root_dir = \"/content/drive/MyDrive/practice folder/brain tumor/train\"\n",
    "number_of_images = {}\n",
    "# will give you location of files available\n",
    "for dir in os.listdir(root_dir):\n",
    "  number_of_images[dir] = len(os.listdir(os.path.join(root_dir,dir)))\n",
    "   \n",
    "number_of_images.items()\n"
   ]
  },
  {
   "cell_type": "code",
   "execution_count": 5,
   "metadata": {
    "colab": {
     "base_uri": "https://localhost:8080/"
    },
    "executionInfo": {
     "elapsed": 29,
     "status": "ok",
     "timestamp": 1637684009760,
     "user": {
      "displayName": "Abhishek Dodiya",
      "photoUrl": "https://lh3.googleusercontent.com/a/default-user=s64",
      "userId": "09729067614213961998"
     },
     "user_tz": -330
    },
    "id": "PUP9ZZInBxTi",
    "outputId": "4269af28-201f-489a-fa04-4a2fe951009f"
   },
   "outputs": [
    {
     "data": {
      "text/plain": [
       "['archive',\n",
       " 'train',\n",
       " 'val',\n",
       " 'test',\n",
       " 'bestmodel_tumor.h5',\n",
       " 'brain tumor_2_.ipynb',\n",
       " 'bestmodel_tumor_mobilenet.h5']"
      ]
     },
     "execution_count": 5,
     "metadata": {},
     "output_type": "execute_result"
    }
   ],
   "source": [
    "os.listdir(\"/content/drive/MyDrive/practice folder/brain tumor/\")"
   ]
  },
  {
   "cell_type": "code",
   "execution_count": 6,
   "metadata": {
    "executionInfo": {
     "elapsed": 15,
     "status": "ok",
     "timestamp": 1637684009762,
     "user": {
      "displayName": "Abhishek Dodiya",
      "photoUrl": "https://lh3.googleusercontent.com/a/default-user=s64",
      "userId": "09729067614213961998"
     },
     "user_tz": -330
    },
    "id": "W0WKi5f2HbW_"
   },
   "outputs": [],
   "source": [
    "# # now data spliting task \n",
    "# if not os.path.exists(\"./train\"):\n",
    "#   os.mkdir(\"./train\")\n",
    "\n",
    "#   for dir in os.listdir(root_dir):\n",
    "#     os.makedirs(\"./train\"+dir)\n",
    "\n",
    "#     for img in np.random.choice(a = os.listdir(os.path.join(root_dir,dir)) , \n",
    "#                                 size = (math.floor(70/100*number_of_images[dir])-5),\n",
    "#                                 replace = False)\n",
    "#     o = os.path.join(root_dir,dir,img) #path\n",
    "#     d = os.path.join(\"./train\",dir)\n",
    "#     shutil.copy(o,d)\n",
    "#     os.remove(o)\n",
    "# else:\n",
    "#   print(\"the folder existed \")"
   ]
  },
  {
   "cell_type": "code",
   "execution_count": 7,
   "metadata": {
    "executionInfo": {
     "elapsed": 521,
     "status": "ok",
     "timestamp": 1637684019209,
     "user": {
      "displayName": "Abhishek Dodiya",
      "photoUrl": "https://lh3.googleusercontent.com/a/default-user=s64",
      "userId": "09729067614213961998"
     },
     "user_tz": -330
    },
    "id": "VIkg14bWJ7Lj"
   },
   "outputs": [],
   "source": [
    "def dataFolder(p,split):\n",
    "  if not os.path.exists(\"./\"+p):\n",
    "      os.mkdir(\"/content/drive/MyDrive/practice folder/brain tumor/\"+p)\n",
    "\n",
    "  for dir in os.listdir(root_dir):\n",
    "    os.makedirs(\"/content/drive/MyDrive/practice folder/brain tumor/\"+p+\"/\"+dir)\n",
    "\n",
    "    for img in np.random.choice(a = os.listdir(os.path.join(root_dir,dir)) , \n",
    "                                size = (math.floor(split*number_of_images[dir])-5),\n",
    "                                replace = False):\n",
    "      o = os.path.join(root_dir,dir,img) #path\n",
    "      d = os.path.join(\"/content/drive/MyDrive/practice folder/brain tumor/\"+p,dir)\n",
    "      shutil.copy(o,d)\n",
    "      os.remove(o)\n",
    "  else:\n",
    "    print(f\"{p}the folder existed \")\n"
   ]
  },
  {
   "cell_type": "code",
   "execution_count": null,
   "metadata": {
    "id": "CFG6urkELI3L"
   },
   "outputs": [],
   "source": [
    "dataFolder(\"train\",0.7)"
   ]
  },
  {
   "cell_type": "code",
   "execution_count": null,
   "metadata": {
    "id": "oy94CXkzYk3_"
   },
   "outputs": [],
   "source": [
    "dataFolder(\"val\",0.15)\n"
   ]
  },
  {
   "cell_type": "code",
   "execution_count": null,
   "metadata": {
    "id": "ysomlyawFTQ7"
   },
   "outputs": [],
   "source": [
    "dataFolder(\"test\",0.15)"
   ]
  },
  {
   "cell_type": "code",
   "execution_count": null,
   "metadata": {
    "id": "CsY0qHf_LXFn"
   },
   "outputs": [],
   "source": [
    "## moodel building "
   ]
  },
  {
   "cell_type": "code",
   "execution_count": 8,
   "metadata": {
    "executionInfo": {
     "elapsed": 2433,
     "status": "ok",
     "timestamp": 1637684024940,
     "user": {
      "displayName": "Abhishek Dodiya",
      "photoUrl": "https://lh3.googleusercontent.com/a/default-user=s64",
      "userId": "09729067614213961998"
     },
     "user_tz": -330
    },
    "id": "ZqLKjFLLLXiO"
   },
   "outputs": [],
   "source": [
    "from keras.layers import Conv2D,MaxPool2D,Dropout,Flatten,Dense,BatchNormalization,GlobalAvgPool2D\n",
    "from keras.models import Sequential\n",
    "from keras.preprocessing.image import load_img, img_to_array\n",
    "import keras\n",
    "from keras.preprocessing.image import ImageDataGenerator"
   ]
  },
  {
   "cell_type": "code",
   "execution_count": null,
   "metadata": {
    "id": "AO6paW-eLXlI"
   },
   "outputs": [],
   "source": [
    "# cnn model\n",
    "model = Sequential()\n",
    "model.add(Conv2D(filters = 16,kernel_size = (3,3),activation='relu',input_shape=(224,224,3) ))\n",
    "\n",
    "model.add(Conv2D(filters = 36,kernel_size = (3,3),activation='relu'))\n",
    "model.add(MaxPool2D(pool_size=(2,2)))\n",
    "\n",
    "model.add(Conv2D(filters = 64,kernel_size = (3,3),activation='relu'))\n",
    "model.add(MaxPool2D(pool_size=(2,2)))\n",
    "\n",
    "model.add(Conv2D(filters = 128,kernel_size = (3,3),activation='relu'))\n",
    "model.add(MaxPool2D(pool_size=(2,2)))\n",
    "\n",
    "model.add(Dropout(rate=0.25))\n",
    "\n",
    "model.add(Flatten())\n",
    "model.add(Dense(units=64,activation='relu'))\n",
    "model.add(Dropout(rate = 0.25))\n",
    "model.add(Dense(units=1,activation='sigmoid'))\n",
    "\n",
    "model.summary()"
   ]
  },
  {
   "cell_type": "code",
   "execution_count": null,
   "metadata": {
    "id": "Rmx8yZboLXoO"
   },
   "outputs": [],
   "source": [
    "model.compile(optimizer='adam', loss = keras.losses.binary_crossentropy,metrics= ['accuracy'])"
   ]
  },
  {
   "cell_type": "code",
   "execution_count": 9,
   "metadata": {
    "executionInfo": {
     "elapsed": 4,
     "status": "ok",
     "timestamp": 1637684027733,
     "user": {
      "displayName": "Abhishek Dodiya",
      "photoUrl": "https://lh3.googleusercontent.com/a/default-user=s64",
      "userId": "09729067614213961998"
     },
     "user_tz": -330
    },
    "id": "TJ8IWrItLXrG"
   },
   "outputs": [],
   "source": [
    "#data generator\n",
    "def preprocessingImages1(path):\n",
    "  \"\"\"\n",
    "  input :path\n",
    "  output: pre processed image \n",
    "  \"\"\"\n",
    "\n",
    "  image_data = ImageDataGenerator(zoom_range= 0.2,shear_range=0.2,rescale=1/255,horizontal_flip= True)\n",
    "  image = image_data.flow_from_directory(directory  = path,target_size = (224,224),batch_size = 32,class_mode = 'binary')\n",
    "  \n",
    "  return image"
   ]
  },
  {
   "cell_type": "code",
   "execution_count": 10,
   "metadata": {
    "colab": {
     "base_uri": "https://localhost:8080/"
    },
    "executionInfo": {
     "elapsed": 11,
     "status": "ok",
     "timestamp": 1637684028349,
     "user": {
      "displayName": "Abhishek Dodiya",
      "photoUrl": "https://lh3.googleusercontent.com/a/default-user=s64",
      "userId": "09729067614213961998"
     },
     "user_tz": -330
    },
    "id": "qevPBO4ILXut",
    "outputId": "90afed45-b151-4e34-b72f-28f6dbf8d01f"
   },
   "outputs": [
    {
     "name": "stdout",
     "output_type": "stream",
     "text": [
      "Found 2090 images belonging to 2 classes.\n"
     ]
    }
   ],
   "source": [
    "path = \"/content/drive/MyDrive/practice folder/brain tumor/train\"\n",
    "train_data = preprocessingImages1(path)\n"
   ]
  },
  {
   "cell_type": "code",
   "execution_count": 11,
   "metadata": {
    "executionInfo": {
     "elapsed": 507,
     "status": "ok",
     "timestamp": 1637684031222,
     "user": {
      "displayName": "Abhishek Dodiya",
      "photoUrl": "https://lh3.googleusercontent.com/a/default-user=s64",
      "userId": "09729067614213961998"
     },
     "user_tz": -330
    },
    "id": "V4Nh641GSzrp"
   },
   "outputs": [],
   "source": [
    "def preprocessingImages2(path):\n",
    "  \"\"\"\n",
    "  input :path\n",
    "  output: pre processed image \n",
    "  \"\"\"\n",
    "\n",
    "  image_data = ImageDataGenerator(rescale=1/255)# we are not adding any perameter because at run time we might encounter with any image\n",
    "  image = image_data.flow_from_directory(directory  = path,target_size = (224,224),batch_size = 32,class_mode = 'binary')\n",
    "  \n",
    "  return image"
   ]
  },
  {
   "cell_type": "code",
   "execution_count": 12,
   "metadata": {
    "colab": {
     "base_uri": "https://localhost:8080/"
    },
    "executionInfo": {
     "elapsed": 2675,
     "status": "ok",
     "timestamp": 1637684034369,
     "user": {
      "displayName": "Abhishek Dodiya",
      "photoUrl": "https://lh3.googleusercontent.com/a/default-user=s64",
      "userId": "09729067614213961998"
     },
     "user_tz": -330
    },
    "id": "fHTIU2kFbwDd",
    "outputId": "52943222-7aa1-43ac-e51f-c0387f049c5e"
   },
   "outputs": [
    {
     "name": "stdout",
     "output_type": "stream",
     "text": [
      "Found 440 images belonging to 2 classes.\n",
      "Found 440 images belonging to 2 classes.\n"
     ]
    }
   ],
   "source": [
    "path = \"/content/drive/MyDrive/practice folder/brain tumor/test\"\n",
    "test_data = preprocessingImages2(path)\n",
    "path = \"/content/drive/MyDrive/practice folder/brain tumor/val\"\n",
    "val_data = preprocessingImages2(path)"
   ]
  },
  {
   "cell_type": "code",
   "execution_count": null,
   "metadata": {
    "id": "jsrJTmT_b55v"
   },
   "outputs": [],
   "source": [
    "# for early stoping and check point \n",
    "# because result comes early some time so we can save rest of time\n",
    "from keras.callbacks import ModelCheckpoint,EarlyStopping\n",
    "\n",
    "#early stoping \n",
    "es = EarlyStopping(monitor = \"val_accuracy\",min_delta = 0.01,patience = 5,verbose = 1, mode = \"auto\")\n",
    "\n",
    "#model check point \n",
    "mc = ModelCheckpoint(monitor = \"val_accuracy\",filepath = \"./bestmodel_tumor.h5\",verbose = 1,save_best_only = True, mode = \"auto\")\n",
    "\n",
    "cd = [es,mc]"
   ]
  },
  {
   "cell_type": "code",
   "execution_count": null,
   "metadata": {
    "id": "MDBmLw8ndz3J"
   },
   "outputs": [],
   "source": [
    "## model training \n",
    "hs = model.fit_generator(generator= train_data,\n",
    "                         steps_per_epoch = 10,\n",
    "                         epochs = 50,verbose = 1,\n",
    "                         validation_data=val_data,\n",
    "                         callbacks=cd)\n",
    "#verbos is use to not show process , and on validation is just rescaling, not augmentation"
   ]
  },
  {
   "cell_type": "code",
   "execution_count": null,
   "metadata": {
    "id": "m24UuCLVeiS9"
   },
   "outputs": [],
   "source": [
    "# model graphical visulization\n",
    "h = hs.history\n",
    "h.keys()"
   ]
  },
  {
   "cell_type": "code",
   "execution_count": null,
   "metadata": {
    "id": "vNucqVyeeiWQ"
   },
   "outputs": [],
   "source": [
    "import matplotlib.pyplot as plt\n",
    "plt.plot(h[\"accuracy\"])\n",
    "plt.plot(h[\"val_accuracy\"],c = \"red\")\n",
    "plt.title(\"acc vs val_accuracy\")\n",
    "plt.show()\n",
    "\n",
    "plt.plot(h[\"loss\"])\n",
    "plt.plot(h[\"val_loss\"],c = \"red\")\n",
    "plt.title(\"loss vs val_loss\")\n",
    "plt.show()"
   ]
  },
  {
   "cell_type": "code",
   "execution_count": null,
   "metadata": {
    "id": "NNoQddWQmtlF"
   },
   "outputs": [],
   "source": [
    "# model accuracy \n",
    "from keras.models import load_model"
   ]
  },
  {
   "cell_type": "code",
   "execution_count": null,
   "metadata": {
    "id": "byWARxSlnC0y"
   },
   "outputs": [],
   "source": [
    "model = load_model(\"/content/drive/MyDrive/practice folder/brain tumor/bestmodel_tumor.h5\")\n"
   ]
  },
  {
   "cell_type": "code",
   "execution_count": null,
   "metadata": {
    "id": "jTxCZZ_EnO9O"
   },
   "outputs": [],
   "source": [
    "acc = model.evaluate_generator(test_data)[1]\n",
    "print(f\"the accuracy of model is {acc*100} %\")"
   ]
  },
  {
   "cell_type": "code",
   "execution_count": null,
   "metadata": {
    "id": "iqD99WwZnfkb"
   },
   "outputs": [],
   "source": [
    "from keras.preprocessing.image import load_img,img_to_array\n",
    "\n",
    "path = \"/content/drive/MyDrive/practice folder/brain tumor/test/brain_tumer_no/no100.jpg\"\n",
    "\n",
    "img = load_img(path,target_size=(224,224))\n",
    "input_arr = img_to_array(img)/255\n",
    "\n",
    "plt.imshow(input_arr)\n",
    "plt.show()\n",
    "input_arr.shape # now it is same as input layer \n",
    "#but we have first dimension as none that we need to update\n",
    "\n",
    "input_arr = np.expand_dims(input_arr,axis = 0)\n",
    "input_arr.shape\n",
    "# pred = model.predict_classes(input_arr)[0][0]\n",
    "# pred # this is not work above tensore flow 2.5.0\n",
    "\n",
    "### workde ok till this point \n",
    "predict = model.predict(input_arr) \n",
    "print(predict)\n",
    "if predict > 0.5:\n",
    "  print(\"yes is tumorous brain\")\n",
    "else:\n",
    "  print(\"no it is not tumorous brain \")"
   ]
  },
  {
   "cell_type": "code",
   "execution_count": null,
   "metadata": {
    "id": "eZPheSjlouW7"
   },
   "outputs": [],
   "source": [
    "train_data.class_indices # will show which class hold which no"
   ]
  },
  {
   "cell_type": "code",
   "execution_count": null,
   "metadata": {
    "id": "D_jHmDRHrr0S"
   },
   "outputs": [],
   "source": [
    "import tensorflow as tf\n",
    "print(tf.__version__)"
   ]
  },
  {
   "cell_type": "code",
   "execution_count": null,
   "metadata": {
    "id": "2I-7Q1TYq7Q1"
   },
   "outputs": [],
   "source": [
    "______________________________________________________________________________________________________________________"
   ]
  },
  {
   "cell_type": "code",
   "execution_count": null,
   "metadata": {
    "id": "oaqCU9Jiq7UI"
   },
   "outputs": [],
   "source": [
    "__________________________________________________________________________________________________________________"
   ]
  },
  {
   "cell_type": "code",
   "execution_count": null,
   "metadata": {
    "id": "L0zL4ko8sXvG"
   },
   "outputs": [],
   "source": [
    "## model training /transfer learning\n",
    "#from keras.application.mobilenet import MobileNet"
   ]
  },
  {
   "cell_type": "code",
   "execution_count": 13,
   "metadata": {
    "executionInfo": {
     "elapsed": 465,
     "status": "ok",
     "timestamp": 1637684050066,
     "user": {
      "displayName": "Abhishek Dodiya",
      "photoUrl": "https://lh3.googleusercontent.com/a/default-user=s64",
      "userId": "09729067614213961998"
     },
     "user_tz": -330
    },
    "id": "EnMFAwtCks0Z"
   },
   "outputs": [],
   "source": [
    "import numpy as np\n",
    "import matplotlib.pyplot as plt\n",
    "from keras.layers import Flatten,Dense\n",
    "from keras.models import Model,load_model\n",
    "from keras.applications.mobilenet import MobileNet,preprocess_input\n"
   ]
  },
  {
   "cell_type": "code",
   "execution_count": 14,
   "metadata": {
    "executionInfo": {
     "elapsed": 5,
     "status": "ok",
     "timestamp": 1637684050661,
     "user": {
      "displayName": "Abhishek Dodiya",
      "photoUrl": "https://lh3.googleusercontent.com/a/default-user=s64",
      "userId": "09729067614213961998"
     },
     "user_tz": -330
    },
    "id": "5qBcPdQLpQ_-"
   },
   "outputs": [],
   "source": [
    "# we need to recscle the image before we make any process which is done by preprocessFunction1 in last model wherewe \n",
    "#just divide our image by 255, but here we will update and use \"preprocess_input\" and rest of will be same andmake new functiion so it can't overlap \n",
    "#with old data function \n",
    "\n",
    "#data generator\n",
    "def preprocessingImages11(path):\n",
    "  \"\"\"\n",
    "  input :path\n",
    "  output: pre processed image \n",
    "  \"\"\"\n",
    "\n",
    "  image_data = ImageDataGenerator(zoom_range= 0.2,shear_range=0.2,preprocessing_function = preprocess_input ,horizontal_flip= True)\n",
    "  image = image_data.flow_from_directory(directory  = path,target_size = (224,224),batch_size = 32,class_mode = 'binary')\n",
    "  \n",
    "  return image\n",
    "def preprocessingImages22(path):\n",
    "  \"\"\"\n",
    "  input :path\n",
    "  output: pre processed image \n",
    "  \"\"\"\n",
    "\n",
    "  image_data = ImageDataGenerator(preprocessing_function=preprocess_input)# we are not adding any perameter because at run time we might encounter with any image\n",
    "  image = image_data.flow_from_directory(directory  = path,target_size = (224,224),batch_size = 32,class_mode = 'binary')\n",
    "  \n",
    "  return image\n"
   ]
  },
  {
   "cell_type": "code",
   "execution_count": 15,
   "metadata": {
    "colab": {
     "base_uri": "https://localhost:8080/"
    },
    "executionInfo": {
     "elapsed": 1247,
     "status": "ok",
     "timestamp": 1637684052370,
     "user": {
      "displayName": "Abhishek Dodiya",
      "photoUrl": "https://lh3.googleusercontent.com/a/default-user=s64",
      "userId": "09729067614213961998"
     },
     "user_tz": -330
    },
    "id": "HOZcpM5lpRM0",
    "outputId": "6c4b6299-12c0-4fc8-a43b-cfd710c0be20"
   },
   "outputs": [
    {
     "name": "stdout",
     "output_type": "stream",
     "text": [
      "WARNING:tensorflow:`input_shape` is undefined or non-square, or `rows` is not in [128, 160, 192, 224]. Weights for input shape (224, 224) will be loaded as the default.\n",
      "Downloading data from https://storage.googleapis.com/tensorflow/keras-applications/mobilenet/mobilenet_1_0_224_tf_no_top.h5\n",
      "17227776/17225924 [==============================] - 0s 0us/step\n",
      "17235968/17225924 [==============================] - 0s 0us/step\n"
     ]
    }
   ],
   "source": [
    "base_model = MobileNet(input_shape = (224,223,3),include_top = False)"
   ]
  },
  {
   "cell_type": "code",
   "execution_count": 16,
   "metadata": {
    "executionInfo": {
     "elapsed": 7,
     "status": "ok",
     "timestamp": 1637684052371,
     "user": {
      "displayName": "Abhishek Dodiya",
      "photoUrl": "https://lh3.googleusercontent.com/a/default-user=s64",
      "userId": "09729067614213961998"
     },
     "user_tz": -330
    },
    "id": "gisvbIR8qfqJ"
   },
   "outputs": [],
   "source": [
    "for layer in base_model.layers:\n",
    "  layer.trainable = False\n",
    "\n"
   ]
  },
  {
   "cell_type": "code",
   "execution_count": 17,
   "metadata": {
    "colab": {
     "base_uri": "https://localhost:8080/"
    },
    "executionInfo": {
     "elapsed": 12,
     "status": "ok",
     "timestamp": 1637684052885,
     "user": {
      "displayName": "Abhishek Dodiya",
      "photoUrl": "https://lh3.googleusercontent.com/a/default-user=s64",
      "userId": "09729067614213961998"
     },
     "user_tz": -330
    },
    "id": "LV1k2YCWrqHQ",
    "outputId": "53a21f2d-0327-48e0-81cc-090e2b8562fd"
   },
   "outputs": [
    {
     "name": "stdout",
     "output_type": "stream",
     "text": [
      "Model: \"mobilenet_1.00_224\"\n",
      "_________________________________________________________________\n",
      " Layer (type)                Output Shape              Param #   \n",
      "=================================================================\n",
      " input_1 (InputLayer)        [(None, 224, 223, 3)]     0         \n",
      "                                                                 \n",
      " conv1 (Conv2D)              (None, 112, 112, 32)      864       \n",
      "                                                                 \n",
      " conv1_bn (BatchNormalizatio  (None, 112, 112, 32)     128       \n",
      " n)                                                              \n",
      "                                                                 \n",
      " conv1_relu (ReLU)           (None, 112, 112, 32)      0         \n",
      "                                                                 \n",
      " conv_dw_1 (DepthwiseConv2D)  (None, 112, 112, 32)     288       \n",
      "                                                                 \n",
      " conv_dw_1_bn (BatchNormaliz  (None, 112, 112, 32)     128       \n",
      " ation)                                                          \n",
      "                                                                 \n",
      " conv_dw_1_relu (ReLU)       (None, 112, 112, 32)      0         \n",
      "                                                                 \n",
      " conv_pw_1 (Conv2D)          (None, 112, 112, 64)      2048      \n",
      "                                                                 \n",
      " conv_pw_1_bn (BatchNormaliz  (None, 112, 112, 64)     256       \n",
      " ation)                                                          \n",
      "                                                                 \n",
      " conv_pw_1_relu (ReLU)       (None, 112, 112, 64)      0         \n",
      "                                                                 \n",
      " conv_pad_2 (ZeroPadding2D)  (None, 113, 113, 64)      0         \n",
      "                                                                 \n",
      " conv_dw_2 (DepthwiseConv2D)  (None, 56, 56, 64)       576       \n",
      "                                                                 \n",
      " conv_dw_2_bn (BatchNormaliz  (None, 56, 56, 64)       256       \n",
      " ation)                                                          \n",
      "                                                                 \n",
      " conv_dw_2_relu (ReLU)       (None, 56, 56, 64)        0         \n",
      "                                                                 \n",
      " conv_pw_2 (Conv2D)          (None, 56, 56, 128)       8192      \n",
      "                                                                 \n",
      " conv_pw_2_bn (BatchNormaliz  (None, 56, 56, 128)      512       \n",
      " ation)                                                          \n",
      "                                                                 \n",
      " conv_pw_2_relu (ReLU)       (None, 56, 56, 128)       0         \n",
      "                                                                 \n",
      " conv_dw_3 (DepthwiseConv2D)  (None, 56, 56, 128)      1152      \n",
      "                                                                 \n",
      " conv_dw_3_bn (BatchNormaliz  (None, 56, 56, 128)      512       \n",
      " ation)                                                          \n",
      "                                                                 \n",
      " conv_dw_3_relu (ReLU)       (None, 56, 56, 128)       0         \n",
      "                                                                 \n",
      " conv_pw_3 (Conv2D)          (None, 56, 56, 128)       16384     \n",
      "                                                                 \n",
      " conv_pw_3_bn (BatchNormaliz  (None, 56, 56, 128)      512       \n",
      " ation)                                                          \n",
      "                                                                 \n",
      " conv_pw_3_relu (ReLU)       (None, 56, 56, 128)       0         \n",
      "                                                                 \n",
      " conv_pad_4 (ZeroPadding2D)  (None, 57, 57, 128)       0         \n",
      "                                                                 \n",
      " conv_dw_4 (DepthwiseConv2D)  (None, 28, 28, 128)      1152      \n",
      "                                                                 \n",
      " conv_dw_4_bn (BatchNormaliz  (None, 28, 28, 128)      512       \n",
      " ation)                                                          \n",
      "                                                                 \n",
      " conv_dw_4_relu (ReLU)       (None, 28, 28, 128)       0         \n",
      "                                                                 \n",
      " conv_pw_4 (Conv2D)          (None, 28, 28, 256)       32768     \n",
      "                                                                 \n",
      " conv_pw_4_bn (BatchNormaliz  (None, 28, 28, 256)      1024      \n",
      " ation)                                                          \n",
      "                                                                 \n",
      " conv_pw_4_relu (ReLU)       (None, 28, 28, 256)       0         \n",
      "                                                                 \n",
      " conv_dw_5 (DepthwiseConv2D)  (None, 28, 28, 256)      2304      \n",
      "                                                                 \n",
      " conv_dw_5_bn (BatchNormaliz  (None, 28, 28, 256)      1024      \n",
      " ation)                                                          \n",
      "                                                                 \n",
      " conv_dw_5_relu (ReLU)       (None, 28, 28, 256)       0         \n",
      "                                                                 \n",
      " conv_pw_5 (Conv2D)          (None, 28, 28, 256)       65536     \n",
      "                                                                 \n",
      " conv_pw_5_bn (BatchNormaliz  (None, 28, 28, 256)      1024      \n",
      " ation)                                                          \n",
      "                                                                 \n",
      " conv_pw_5_relu (ReLU)       (None, 28, 28, 256)       0         \n",
      "                                                                 \n",
      " conv_pad_6 (ZeroPadding2D)  (None, 29, 29, 256)       0         \n",
      "                                                                 \n",
      " conv_dw_6 (DepthwiseConv2D)  (None, 14, 14, 256)      2304      \n",
      "                                                                 \n",
      " conv_dw_6_bn (BatchNormaliz  (None, 14, 14, 256)      1024      \n",
      " ation)                                                          \n",
      "                                                                 \n",
      " conv_dw_6_relu (ReLU)       (None, 14, 14, 256)       0         \n",
      "                                                                 \n",
      " conv_pw_6 (Conv2D)          (None, 14, 14, 512)       131072    \n",
      "                                                                 \n",
      " conv_pw_6_bn (BatchNormaliz  (None, 14, 14, 512)      2048      \n",
      " ation)                                                          \n",
      "                                                                 \n",
      " conv_pw_6_relu (ReLU)       (None, 14, 14, 512)       0         \n",
      "                                                                 \n",
      " conv_dw_7 (DepthwiseConv2D)  (None, 14, 14, 512)      4608      \n",
      "                                                                 \n",
      " conv_dw_7_bn (BatchNormaliz  (None, 14, 14, 512)      2048      \n",
      " ation)                                                          \n",
      "                                                                 \n",
      " conv_dw_7_relu (ReLU)       (None, 14, 14, 512)       0         \n",
      "                                                                 \n",
      " conv_pw_7 (Conv2D)          (None, 14, 14, 512)       262144    \n",
      "                                                                 \n",
      " conv_pw_7_bn (BatchNormaliz  (None, 14, 14, 512)      2048      \n",
      " ation)                                                          \n",
      "                                                                 \n",
      " conv_pw_7_relu (ReLU)       (None, 14, 14, 512)       0         \n",
      "                                                                 \n",
      " conv_dw_8 (DepthwiseConv2D)  (None, 14, 14, 512)      4608      \n",
      "                                                                 \n",
      " conv_dw_8_bn (BatchNormaliz  (None, 14, 14, 512)      2048      \n",
      " ation)                                                          \n",
      "                                                                 \n",
      " conv_dw_8_relu (ReLU)       (None, 14, 14, 512)       0         \n",
      "                                                                 \n",
      " conv_pw_8 (Conv2D)          (None, 14, 14, 512)       262144    \n",
      "                                                                 \n",
      " conv_pw_8_bn (BatchNormaliz  (None, 14, 14, 512)      2048      \n",
      " ation)                                                          \n",
      "                                                                 \n",
      " conv_pw_8_relu (ReLU)       (None, 14, 14, 512)       0         \n",
      "                                                                 \n",
      " conv_dw_9 (DepthwiseConv2D)  (None, 14, 14, 512)      4608      \n",
      "                                                                 \n",
      " conv_dw_9_bn (BatchNormaliz  (None, 14, 14, 512)      2048      \n",
      " ation)                                                          \n",
      "                                                                 \n",
      " conv_dw_9_relu (ReLU)       (None, 14, 14, 512)       0         \n",
      "                                                                 \n",
      " conv_pw_9 (Conv2D)          (None, 14, 14, 512)       262144    \n",
      "                                                                 \n",
      " conv_pw_9_bn (BatchNormaliz  (None, 14, 14, 512)      2048      \n",
      " ation)                                                          \n",
      "                                                                 \n",
      " conv_pw_9_relu (ReLU)       (None, 14, 14, 512)       0         \n",
      "                                                                 \n",
      " conv_dw_10 (DepthwiseConv2D  (None, 14, 14, 512)      4608      \n",
      " )                                                               \n",
      "                                                                 \n",
      " conv_dw_10_bn (BatchNormali  (None, 14, 14, 512)      2048      \n",
      " zation)                                                         \n",
      "                                                                 \n",
      " conv_dw_10_relu (ReLU)      (None, 14, 14, 512)       0         \n",
      "                                                                 \n",
      " conv_pw_10 (Conv2D)         (None, 14, 14, 512)       262144    \n",
      "                                                                 \n",
      " conv_pw_10_bn (BatchNormali  (None, 14, 14, 512)      2048      \n",
      " zation)                                                         \n",
      "                                                                 \n",
      " conv_pw_10_relu (ReLU)      (None, 14, 14, 512)       0         \n",
      "                                                                 \n",
      " conv_dw_11 (DepthwiseConv2D  (None, 14, 14, 512)      4608      \n",
      " )                                                               \n",
      "                                                                 \n",
      " conv_dw_11_bn (BatchNormali  (None, 14, 14, 512)      2048      \n",
      " zation)                                                         \n",
      "                                                                 \n",
      " conv_dw_11_relu (ReLU)      (None, 14, 14, 512)       0         \n",
      "                                                                 \n",
      " conv_pw_11 (Conv2D)         (None, 14, 14, 512)       262144    \n",
      "                                                                 \n",
      " conv_pw_11_bn (BatchNormali  (None, 14, 14, 512)      2048      \n",
      " zation)                                                         \n",
      "                                                                 \n",
      " conv_pw_11_relu (ReLU)      (None, 14, 14, 512)       0         \n",
      "                                                                 \n",
      " conv_pad_12 (ZeroPadding2D)  (None, 15, 15, 512)      0         \n",
      "                                                                 \n",
      " conv_dw_12 (DepthwiseConv2D  (None, 7, 7, 512)        4608      \n",
      " )                                                               \n",
      "                                                                 \n",
      " conv_dw_12_bn (BatchNormali  (None, 7, 7, 512)        2048      \n",
      " zation)                                                         \n",
      "                                                                 \n",
      " conv_dw_12_relu (ReLU)      (None, 7, 7, 512)         0         \n",
      "                                                                 \n",
      " conv_pw_12 (Conv2D)         (None, 7, 7, 1024)        524288    \n",
      "                                                                 \n",
      " conv_pw_12_bn (BatchNormali  (None, 7, 7, 1024)       4096      \n",
      " zation)                                                         \n",
      "                                                                 \n",
      " conv_pw_12_relu (ReLU)      (None, 7, 7, 1024)        0         \n",
      "                                                                 \n",
      " conv_dw_13 (DepthwiseConv2D  (None, 7, 7, 1024)       9216      \n",
      " )                                                               \n",
      "                                                                 \n",
      " conv_dw_13_bn (BatchNormali  (None, 7, 7, 1024)       4096      \n",
      " zation)                                                         \n",
      "                                                                 \n",
      " conv_dw_13_relu (ReLU)      (None, 7, 7, 1024)        0         \n",
      "                                                                 \n",
      " conv_pw_13 (Conv2D)         (None, 7, 7, 1024)        1048576   \n",
      "                                                                 \n",
      " conv_pw_13_bn (BatchNormali  (None, 7, 7, 1024)       4096      \n",
      " zation)                                                         \n",
      "                                                                 \n",
      " conv_pw_13_relu (ReLU)      (None, 7, 7, 1024)        0         \n",
      "                                                                 \n",
      "=================================================================\n",
      "Total params: 3,228,864\n",
      "Trainable params: 0\n",
      "Non-trainable params: 3,228,864\n",
      "_________________________________________________________________\n"
     ]
    }
   ],
   "source": [
    "base_model.summary()"
   ]
  },
  {
   "cell_type": "code",
   "execution_count": 18,
   "metadata": {
    "executionInfo": {
     "elapsed": 3,
     "status": "ok",
     "timestamp": 1637684054007,
     "user": {
      "displayName": "Abhishek Dodiya",
      "photoUrl": "https://lh3.googleusercontent.com/a/default-user=s64",
      "userId": "09729067614213961998"
     },
     "user_tz": -330
    },
    "id": "irUyI13Sr12Q"
   },
   "outputs": [],
   "source": [
    "x = Flatten()(base_model.output)# in both dense and flatten methos two ()() represent function and second represent input  of that variable\n",
    "x = Dense(units=1,activation='sigmoid')(x)# here x is our variable \n",
    "\n",
    "model = Model(base_model.input,x)# here it is our input  and output  using functional api which is store in Model "
   ]
  },
  {
   "cell_type": "code",
   "execution_count": 19,
   "metadata": {
    "colab": {
     "base_uri": "https://localhost:8080/"
    },
    "executionInfo": {
     "elapsed": 11,
     "status": "ok",
     "timestamp": 1637684054499,
     "user": {
      "displayName": "Abhishek Dodiya",
      "photoUrl": "https://lh3.googleusercontent.com/a/default-user=s64",
      "userId": "09729067614213961998"
     },
     "user_tz": -330
    },
    "id": "tZ9kkVSxs-RJ",
    "outputId": "bf98fcc9-0731-4931-da82-e875f8d79dba"
   },
   "outputs": [
    {
     "name": "stdout",
     "output_type": "stream",
     "text": [
      "Model: \"model\"\n",
      "_________________________________________________________________\n",
      " Layer (type)                Output Shape              Param #   \n",
      "=================================================================\n",
      " input_1 (InputLayer)        [(None, 224, 223, 3)]     0         \n",
      "                                                                 \n",
      " conv1 (Conv2D)              (None, 112, 112, 32)      864       \n",
      "                                                                 \n",
      " conv1_bn (BatchNormalizatio  (None, 112, 112, 32)     128       \n",
      " n)                                                              \n",
      "                                                                 \n",
      " conv1_relu (ReLU)           (None, 112, 112, 32)      0         \n",
      "                                                                 \n",
      " conv_dw_1 (DepthwiseConv2D)  (None, 112, 112, 32)     288       \n",
      "                                                                 \n",
      " conv_dw_1_bn (BatchNormaliz  (None, 112, 112, 32)     128       \n",
      " ation)                                                          \n",
      "                                                                 \n",
      " conv_dw_1_relu (ReLU)       (None, 112, 112, 32)      0         \n",
      "                                                                 \n",
      " conv_pw_1 (Conv2D)          (None, 112, 112, 64)      2048      \n",
      "                                                                 \n",
      " conv_pw_1_bn (BatchNormaliz  (None, 112, 112, 64)     256       \n",
      " ation)                                                          \n",
      "                                                                 \n",
      " conv_pw_1_relu (ReLU)       (None, 112, 112, 64)      0         \n",
      "                                                                 \n",
      " conv_pad_2 (ZeroPadding2D)  (None, 113, 113, 64)      0         \n",
      "                                                                 \n",
      " conv_dw_2 (DepthwiseConv2D)  (None, 56, 56, 64)       576       \n",
      "                                                                 \n",
      " conv_dw_2_bn (BatchNormaliz  (None, 56, 56, 64)       256       \n",
      " ation)                                                          \n",
      "                                                                 \n",
      " conv_dw_2_relu (ReLU)       (None, 56, 56, 64)        0         \n",
      "                                                                 \n",
      " conv_pw_2 (Conv2D)          (None, 56, 56, 128)       8192      \n",
      "                                                                 \n",
      " conv_pw_2_bn (BatchNormaliz  (None, 56, 56, 128)      512       \n",
      " ation)                                                          \n",
      "                                                                 \n",
      " conv_pw_2_relu (ReLU)       (None, 56, 56, 128)       0         \n",
      "                                                                 \n",
      " conv_dw_3 (DepthwiseConv2D)  (None, 56, 56, 128)      1152      \n",
      "                                                                 \n",
      " conv_dw_3_bn (BatchNormaliz  (None, 56, 56, 128)      512       \n",
      " ation)                                                          \n",
      "                                                                 \n",
      " conv_dw_3_relu (ReLU)       (None, 56, 56, 128)       0         \n",
      "                                                                 \n",
      " conv_pw_3 (Conv2D)          (None, 56, 56, 128)       16384     \n",
      "                                                                 \n",
      " conv_pw_3_bn (BatchNormaliz  (None, 56, 56, 128)      512       \n",
      " ation)                                                          \n",
      "                                                                 \n",
      " conv_pw_3_relu (ReLU)       (None, 56, 56, 128)       0         \n",
      "                                                                 \n",
      " conv_pad_4 (ZeroPadding2D)  (None, 57, 57, 128)       0         \n",
      "                                                                 \n",
      " conv_dw_4 (DepthwiseConv2D)  (None, 28, 28, 128)      1152      \n",
      "                                                                 \n",
      " conv_dw_4_bn (BatchNormaliz  (None, 28, 28, 128)      512       \n",
      " ation)                                                          \n",
      "                                                                 \n",
      " conv_dw_4_relu (ReLU)       (None, 28, 28, 128)       0         \n",
      "                                                                 \n",
      " conv_pw_4 (Conv2D)          (None, 28, 28, 256)       32768     \n",
      "                                                                 \n",
      " conv_pw_4_bn (BatchNormaliz  (None, 28, 28, 256)      1024      \n",
      " ation)                                                          \n",
      "                                                                 \n",
      " conv_pw_4_relu (ReLU)       (None, 28, 28, 256)       0         \n",
      "                                                                 \n",
      " conv_dw_5 (DepthwiseConv2D)  (None, 28, 28, 256)      2304      \n",
      "                                                                 \n",
      " conv_dw_5_bn (BatchNormaliz  (None, 28, 28, 256)      1024      \n",
      " ation)                                                          \n",
      "                                                                 \n",
      " conv_dw_5_relu (ReLU)       (None, 28, 28, 256)       0         \n",
      "                                                                 \n",
      " conv_pw_5 (Conv2D)          (None, 28, 28, 256)       65536     \n",
      "                                                                 \n",
      " conv_pw_5_bn (BatchNormaliz  (None, 28, 28, 256)      1024      \n",
      " ation)                                                          \n",
      "                                                                 \n",
      " conv_pw_5_relu (ReLU)       (None, 28, 28, 256)       0         \n",
      "                                                                 \n",
      " conv_pad_6 (ZeroPadding2D)  (None, 29, 29, 256)       0         \n",
      "                                                                 \n",
      " conv_dw_6 (DepthwiseConv2D)  (None, 14, 14, 256)      2304      \n",
      "                                                                 \n",
      " conv_dw_6_bn (BatchNormaliz  (None, 14, 14, 256)      1024      \n",
      " ation)                                                          \n",
      "                                                                 \n",
      " conv_dw_6_relu (ReLU)       (None, 14, 14, 256)       0         \n",
      "                                                                 \n",
      " conv_pw_6 (Conv2D)          (None, 14, 14, 512)       131072    \n",
      "                                                                 \n",
      " conv_pw_6_bn (BatchNormaliz  (None, 14, 14, 512)      2048      \n",
      " ation)                                                          \n",
      "                                                                 \n",
      " conv_pw_6_relu (ReLU)       (None, 14, 14, 512)       0         \n",
      "                                                                 \n",
      " conv_dw_7 (DepthwiseConv2D)  (None, 14, 14, 512)      4608      \n",
      "                                                                 \n",
      " conv_dw_7_bn (BatchNormaliz  (None, 14, 14, 512)      2048      \n",
      " ation)                                                          \n",
      "                                                                 \n",
      " conv_dw_7_relu (ReLU)       (None, 14, 14, 512)       0         \n",
      "                                                                 \n",
      " conv_pw_7 (Conv2D)          (None, 14, 14, 512)       262144    \n",
      "                                                                 \n",
      " conv_pw_7_bn (BatchNormaliz  (None, 14, 14, 512)      2048      \n",
      " ation)                                                          \n",
      "                                                                 \n",
      " conv_pw_7_relu (ReLU)       (None, 14, 14, 512)       0         \n",
      "                                                                 \n",
      " conv_dw_8 (DepthwiseConv2D)  (None, 14, 14, 512)      4608      \n",
      "                                                                 \n",
      " conv_dw_8_bn (BatchNormaliz  (None, 14, 14, 512)      2048      \n",
      " ation)                                                          \n",
      "                                                                 \n",
      " conv_dw_8_relu (ReLU)       (None, 14, 14, 512)       0         \n",
      "                                                                 \n",
      " conv_pw_8 (Conv2D)          (None, 14, 14, 512)       262144    \n",
      "                                                                 \n",
      " conv_pw_8_bn (BatchNormaliz  (None, 14, 14, 512)      2048      \n",
      " ation)                                                          \n",
      "                                                                 \n",
      " conv_pw_8_relu (ReLU)       (None, 14, 14, 512)       0         \n",
      "                                                                 \n",
      " conv_dw_9 (DepthwiseConv2D)  (None, 14, 14, 512)      4608      \n",
      "                                                                 \n",
      " conv_dw_9_bn (BatchNormaliz  (None, 14, 14, 512)      2048      \n",
      " ation)                                                          \n",
      "                                                                 \n",
      " conv_dw_9_relu (ReLU)       (None, 14, 14, 512)       0         \n",
      "                                                                 \n",
      " conv_pw_9 (Conv2D)          (None, 14, 14, 512)       262144    \n",
      "                                                                 \n",
      " conv_pw_9_bn (BatchNormaliz  (None, 14, 14, 512)      2048      \n",
      " ation)                                                          \n",
      "                                                                 \n",
      " conv_pw_9_relu (ReLU)       (None, 14, 14, 512)       0         \n",
      "                                                                 \n",
      " conv_dw_10 (DepthwiseConv2D  (None, 14, 14, 512)      4608      \n",
      " )                                                               \n",
      "                                                                 \n",
      " conv_dw_10_bn (BatchNormali  (None, 14, 14, 512)      2048      \n",
      " zation)                                                         \n",
      "                                                                 \n",
      " conv_dw_10_relu (ReLU)      (None, 14, 14, 512)       0         \n",
      "                                                                 \n",
      " conv_pw_10 (Conv2D)         (None, 14, 14, 512)       262144    \n",
      "                                                                 \n",
      " conv_pw_10_bn (BatchNormali  (None, 14, 14, 512)      2048      \n",
      " zation)                                                         \n",
      "                                                                 \n",
      " conv_pw_10_relu (ReLU)      (None, 14, 14, 512)       0         \n",
      "                                                                 \n",
      " conv_dw_11 (DepthwiseConv2D  (None, 14, 14, 512)      4608      \n",
      " )                                                               \n",
      "                                                                 \n",
      " conv_dw_11_bn (BatchNormali  (None, 14, 14, 512)      2048      \n",
      " zation)                                                         \n",
      "                                                                 \n",
      " conv_dw_11_relu (ReLU)      (None, 14, 14, 512)       0         \n",
      "                                                                 \n",
      " conv_pw_11 (Conv2D)         (None, 14, 14, 512)       262144    \n",
      "                                                                 \n",
      " conv_pw_11_bn (BatchNormali  (None, 14, 14, 512)      2048      \n",
      " zation)                                                         \n",
      "                                                                 \n",
      " conv_pw_11_relu (ReLU)      (None, 14, 14, 512)       0         \n",
      "                                                                 \n",
      " conv_pad_12 (ZeroPadding2D)  (None, 15, 15, 512)      0         \n",
      "                                                                 \n",
      " conv_dw_12 (DepthwiseConv2D  (None, 7, 7, 512)        4608      \n",
      " )                                                               \n",
      "                                                                 \n",
      " conv_dw_12_bn (BatchNormali  (None, 7, 7, 512)        2048      \n",
      " zation)                                                         \n",
      "                                                                 \n",
      " conv_dw_12_relu (ReLU)      (None, 7, 7, 512)         0         \n",
      "                                                                 \n",
      " conv_pw_12 (Conv2D)         (None, 7, 7, 1024)        524288    \n",
      "                                                                 \n",
      " conv_pw_12_bn (BatchNormali  (None, 7, 7, 1024)       4096      \n",
      " zation)                                                         \n",
      "                                                                 \n",
      " conv_pw_12_relu (ReLU)      (None, 7, 7, 1024)        0         \n",
      "                                                                 \n",
      " conv_dw_13 (DepthwiseConv2D  (None, 7, 7, 1024)       9216      \n",
      " )                                                               \n",
      "                                                                 \n",
      " conv_dw_13_bn (BatchNormali  (None, 7, 7, 1024)       4096      \n",
      " zation)                                                         \n",
      "                                                                 \n",
      " conv_dw_13_relu (ReLU)      (None, 7, 7, 1024)        0         \n",
      "                                                                 \n",
      " conv_pw_13 (Conv2D)         (None, 7, 7, 1024)        1048576   \n",
      "                                                                 \n",
      " conv_pw_13_bn (BatchNormali  (None, 7, 7, 1024)       4096      \n",
      " zation)                                                         \n",
      "                                                                 \n",
      " conv_pw_13_relu (ReLU)      (None, 7, 7, 1024)        0         \n",
      "                                                                 \n",
      " flatten (Flatten)           (None, 50176)             0         \n",
      "                                                                 \n",
      " dense (Dense)               (None, 1)                 50177     \n",
      "                                                                 \n",
      "=================================================================\n",
      "Total params: 3,279,041\n",
      "Trainable params: 50,177\n",
      "Non-trainable params: 3,228,864\n",
      "_________________________________________________________________\n"
     ]
    }
   ],
   "source": [
    "model.summary()"
   ]
  },
  {
   "cell_type": "code",
   "execution_count": 20,
   "metadata": {
    "executionInfo": {
     "elapsed": 3,
     "status": "ok",
     "timestamp": 1637684054986,
     "user": {
      "displayName": "Abhishek Dodiya",
      "photoUrl": "https://lh3.googleusercontent.com/a/default-user=s64",
      "userId": "09729067614213961998"
     },
     "user_tz": -330
    },
    "id": "-op5K0Vru9a-"
   },
   "outputs": [],
   "source": [
    "model.compile(optimizer='rmsprop',loss = keras.losses.binary_crossentropy,metrics=['accuracy'])"
   ]
  },
  {
   "cell_type": "code",
   "execution_count": 21,
   "metadata": {
    "executionInfo": {
     "elapsed": 6,
     "status": "ok",
     "timestamp": 1637684056163,
     "user": {
      "displayName": "Abhishek Dodiya",
      "photoUrl": "https://lh3.googleusercontent.com/a/default-user=s64",
      "userId": "09729067614213961998"
     },
     "user_tz": -330
    },
    "id": "jieiklvBvr6_"
   },
   "outputs": [],
   "source": [
    "## callbacks and cheack points \n",
    "# because result comes early some time so we can save rest of time\n",
    "from keras.callbacks import ModelCheckpoint,EarlyStopping\n",
    "\n",
    "#early stoping \n",
    "ES = EarlyStopping(monitor = \"val_accuracy\",min_delta = 0.01,patience = 5,verbose = 1, mode = \"auto\")\n",
    "\n",
    "#model check point \n",
    "MC = ModelCheckpoint(monitor = \"val_accuracy\",filepath = \"/content/drive/MyDrive/practice folder/brain tumor/bestmodel_tumor_mobilenet.h5\",verbose = 1,save_best_only = True)\n",
    "\n",
    "CD = [ES,MC]"
   ]
  },
  {
   "cell_type": "code",
   "execution_count": 22,
   "metadata": {
    "colab": {
     "base_uri": "https://localhost:8080/"
    },
    "executionInfo": {
     "elapsed": 1279764,
     "status": "ok",
     "timestamp": 1637685336425,
     "user": {
      "displayName": "Abhishek Dodiya",
      "photoUrl": "https://lh3.googleusercontent.com/a/default-user=s64",
      "userId": "09729067614213961998"
     },
     "user_tz": -330
    },
    "id": "93advJ6Xvadh",
    "outputId": "07c8f3e4-29a3-472d-9a5f-1ba59ced6ee1"
   },
   "outputs": [
    {
     "name": "stdout",
     "output_type": "stream",
     "text": [
      "Epoch 1/50\n",
      "10/10 [==============================] - ETA: 0s - loss: 7.8346 - accuracy: 0.5500 \n",
      "Epoch 00001: val_accuracy improved from -inf to 0.89545, saving model to /content/drive/MyDrive/practice folder/brain tumor/bestmodel_tumor_mobilenet.h5\n",
      "10/10 [==============================] - 346s 37s/step - loss: 7.8346 - accuracy: 0.5500 - val_loss: 0.5559 - val_accuracy: 0.8955\n",
      "Epoch 2/50\n",
      "10/10 [==============================] - ETA: 0s - loss: 0.6245 - accuracy: 0.9062 \n",
      "Epoch 00002: val_accuracy did not improve from 0.89545\n",
      "10/10 [==============================] - 129s 13s/step - loss: 0.6245 - accuracy: 0.9062 - val_loss: 2.3268 - val_accuracy: 0.6614\n",
      "Epoch 3/50\n",
      "10/10 [==============================] - ETA: 0s - loss: 1.9731 - accuracy: 0.7969 \n",
      "Epoch 00003: val_accuracy improved from 0.89545 to 0.95000, saving model to /content/drive/MyDrive/practice folder/brain tumor/bestmodel_tumor_mobilenet.h5\n",
      "10/10 [==============================] - 116s 12s/step - loss: 1.9731 - accuracy: 0.7969 - val_loss: 0.2250 - val_accuracy: 0.9500\n",
      "Epoch 4/50\n",
      "10/10 [==============================] - ETA: 0s - loss: 0.8060 - accuracy: 0.8781\n",
      "Epoch 00004: val_accuracy did not improve from 0.95000\n",
      "10/10 [==============================] - 100s 10s/step - loss: 0.8060 - accuracy: 0.8781 - val_loss: 0.2270 - val_accuracy: 0.9364\n",
      "Epoch 5/50\n",
      "10/10 [==============================] - ETA: 0s - loss: 2.1995 - accuracy: 0.8188\n",
      "Epoch 00005: val_accuracy did not improve from 0.95000\n",
      "10/10 [==============================] - 85s 8s/step - loss: 2.1995 - accuracy: 0.8188 - val_loss: 0.2013 - val_accuracy: 0.9477\n",
      "Epoch 6/50\n",
      "10/10 [==============================] - ETA: 0s - loss: 0.3679 - accuracy: 0.9281\n",
      "Epoch 00006: val_accuracy did not improve from 0.95000\n",
      "10/10 [==============================] - 70s 7s/step - loss: 0.3679 - accuracy: 0.9281 - val_loss: 1.8059 - val_accuracy: 0.7682\n",
      "Epoch 7/50\n",
      "10/10 [==============================] - ETA: 0s - loss: 0.5255 - accuracy: 0.9161\n",
      "Epoch 00007: val_accuracy did not improve from 0.95000\n",
      "10/10 [==============================] - 55s 5s/step - loss: 0.5255 - accuracy: 0.9161 - val_loss: 0.5438 - val_accuracy: 0.9273\n",
      "Epoch 8/50\n",
      "10/10 [==============================] - ETA: 0s - loss: 1.4796 - accuracy: 0.8625\n",
      "Epoch 00008: val_accuracy improved from 0.95000 to 0.96818, saving model to /content/drive/MyDrive/practice folder/brain tumor/bestmodel_tumor_mobilenet.h5\n",
      "10/10 [==============================] - 58s 6s/step - loss: 1.4796 - accuracy: 0.8625 - val_loss: 0.1080 - val_accuracy: 0.9682\n",
      "Epoch 9/50\n",
      "10/10 [==============================] - ETA: 0s - loss: 0.3996 - accuracy: 0.9281\n",
      "Epoch 00009: val_accuracy did not improve from 0.96818\n",
      "10/10 [==============================] - 42s 4s/step - loss: 0.3996 - accuracy: 0.9281 - val_loss: 0.3868 - val_accuracy: 0.9295\n",
      "Epoch 10/50\n",
      "10/10 [==============================] - ETA: 0s - loss: 0.1008 - accuracy: 0.9719\n",
      "Epoch 00010: val_accuracy did not improve from 0.96818\n",
      "10/10 [==============================] - 44s 5s/step - loss: 0.1008 - accuracy: 0.9719 - val_loss: 0.1525 - val_accuracy: 0.9614\n",
      "Epoch 11/50\n",
      "10/10 [==============================] - ETA: 0s - loss: 1.0403 - accuracy: 0.8844\n",
      "Epoch 00011: val_accuracy did not improve from 0.96818\n",
      "10/10 [==============================] - 37s 4s/step - loss: 1.0403 - accuracy: 0.8844 - val_loss: 0.1410 - val_accuracy: 0.9682\n",
      "Epoch 12/50\n",
      "10/10 [==============================] - ETA: 0s - loss: 0.2553 - accuracy: 0.9594\n",
      "Epoch 00012: val_accuracy did not improve from 0.96818\n",
      "10/10 [==============================] - 35s 4s/step - loss: 0.2553 - accuracy: 0.9594 - val_loss: 3.7109 - val_accuracy: 0.6182\n",
      "Epoch 13/50\n",
      "10/10 [==============================] - ETA: 0s - loss: 1.0702 - accuracy: 0.8792\n",
      "Epoch 00013: val_accuracy did not improve from 0.96818\n",
      "10/10 [==============================] - 31s 3s/step - loss: 1.0702 - accuracy: 0.8792 - val_loss: 0.3324 - val_accuracy: 0.9636\n",
      "Epoch 00013: early stopping\n"
     ]
    }
   ],
   "source": [
    "hist = model.fit_generator(generator= train_data,\n",
    "                         steps_per_epoch = 10,\n",
    "                         epochs = 50,verbose = 1,\n",
    "                         validation_data=val_data,\n",
    "                         callbacks=CD)\n",
    "                          "
   ]
  },
  {
   "cell_type": "code",
   "execution_count": 25,
   "metadata": {
    "colab": {
     "base_uri": "https://localhost:8080/"
    },
    "executionInfo": {
     "elapsed": 9,
     "status": "ok",
     "timestamp": 1637685387616,
     "user": {
      "displayName": "Abhishek Dodiya",
      "photoUrl": "https://lh3.googleusercontent.com/a/default-user=s64",
      "userId": "09729067614213961998"
     },
     "user_tz": -330
    },
    "id": "YAW9ZJiJxJIY",
    "outputId": "9d3e3ec3-561e-4b16-a5d3-7f4068592083"
   },
   "outputs": [
    {
     "data": {
      "text/plain": [
       "dict_keys(['loss', 'accuracy', 'val_loss', 'val_accuracy'])"
      ]
     },
     "execution_count": 25,
     "metadata": {},
     "output_type": "execute_result"
    }
   ],
   "source": [
    "# model graphical visulization\n",
    "h = hist.history\n",
    "h.keys()"
   ]
  },
  {
   "cell_type": "code",
   "execution_count": 26,
   "metadata": {
    "colab": {
     "base_uri": "https://localhost:8080/",
     "height": 545
    },
    "executionInfo": {
     "elapsed": 1233,
     "status": "ok",
     "timestamp": 1637685399441,
     "user": {
      "displayName": "Abhishek Dodiya",
      "photoUrl": "https://lh3.googleusercontent.com/a/default-user=s64",
      "userId": "09729067614213961998"
     },
     "user_tz": -330
    },
    "id": "3dZ6Kh3exbRN",
    "outputId": "2d7bc1a8-68be-415b-82f8-eb063fd9fcee"
   },
   "outputs": [
    {
     "data": {
      "image/png": "[encoded data removed]",
      "text/plain": [
       "<Figure size 432x288 with 1 Axes>"
      ]
     },
     "metadata": {
      "needs_background": "light"
     },
     "output_type": "display_data"
    },
    {
     "data": {
      "image/png": "[encoded data removed]",
      "text/plain": [
       "<Figure size 432x288 with 1 Axes>"
      ]
     },
     "metadata": {
      "needs_background": "light"
     },
     "output_type": "display_data"
    }
   ],
   "source": [
    "plt.plot(h[\"accuracy\"])\n",
    "plt.plot(h[\"val_accuracy\"],c = \"red\")\n",
    "plt.title(\"acc vs val_accuracy\")\n",
    "plt.show()\n",
    "\n",
    "plt.plot(h[\"loss\"])\n",
    "plt.plot(h[\"val_loss\"],c = \"red\")\n",
    "plt.title(\"loss vs val_loss\")\n",
    "plt.show()"
   ]
  },
  {
   "cell_type": "code",
   "execution_count": 27,
   "metadata": {
    "executionInfo": {
     "elapsed": 5370,
     "status": "ok",
     "timestamp": 1637685442446,
     "user": {
      "displayName": "Abhishek Dodiya",
      "photoUrl": "https://lh3.googleusercontent.com/a/default-user=s64",
      "userId": "09729067614213961998"
     },
     "user_tz": -330
    },
    "id": "E_kPTHCexbTo"
   },
   "outputs": [],
   "source": [
    "# load model and find accuracy\n",
    "model = load_model(\"/content/drive/MyDrive/practice folder/brain tumor/bestmodel_tumor_mobilenet.h5\")"
   ]
  },
  {
   "cell_type": "code",
   "execution_count": 28,
   "metadata": {
    "colab": {
     "base_uri": "https://localhost:8080/"
    },
    "executionInfo": {
     "elapsed": 614,
     "status": "ok",
     "timestamp": 1637685448084,
     "user": {
      "displayName": "Abhishek Dodiya",
      "photoUrl": "https://lh3.googleusercontent.com/a/default-user=s64",
      "userId": "09729067614213961998"
     },
     "user_tz": -330
    },
    "id": "wRzQHIaBx01z",
    "outputId": "d88d951f-5887-45d3-a24b-4839e097f8eb"
   },
   "outputs": [
    {
     "data": {
      "text/plain": [
       "{'brain_tumer_no': 0, 'brain_tumer_yes': 1}"
      ]
     },
     "execution_count": 28,
     "metadata": {},
     "output_type": "execute_result"
    }
   ],
   "source": [
    "train_data.class_indices # will show which class hold which no"
   ]
  },
  {
   "cell_type": "code",
   "execution_count": 31,
   "metadata": {
    "colab": {
     "base_uri": "https://localhost:8080/"
    },
    "executionInfo": {
     "elapsed": 194065,
     "status": "ok",
     "timestamp": 1637685748092,
     "user": {
      "displayName": "Abhishek Dodiya",
      "photoUrl": "https://lh3.googleusercontent.com/a/default-user=s64",
      "userId": "09729067614213961998"
     },
     "user_tz": -330
    },
    "id": "8kTQYH1oqiW-",
    "outputId": "96ed6f33-5e43-41cd-d676-856eca63d8b4"
   },
   "outputs": [
    {
     "name": "stdout",
     "output_type": "stream",
     "text": [
      "the accuracy of model is 96.13636136054993 %\n"
     ]
    }
   ],
   "source": [
    "acc = model.evaluate_generator(test_data)[1]\n",
    "print(f\"the accuracy of model is {acc*100} %\")"
   ]
  },
  {
   "cell_type": "code",
   "execution_count": 49,
   "metadata": {
    "colab": {
     "base_uri": "https://localhost:8080/",
     "height": 321
    },
    "executionInfo": {
     "elapsed": 1418,
     "status": "ok",
     "timestamp": 1637686516019,
     "user": {
      "displayName": "Abhishek Dodiya",
      "photoUrl": "https://lh3.googleusercontent.com/a/default-user=s64",
      "userId": "09729067614213961998"
     },
     "user_tz": -330
    },
    "id": "ICtviZ8QxbXO",
    "outputId": "dd122220-a269-4d27-df8d-c1a20b7ad94d"
   },
   "outputs": [
    {
     "data": {
      "image/png": "[encoded data removed]",
      "text/plain": [
       "<Figure size 432x288 with 1 Axes>"
      ]
     },
     "metadata": {
      "needs_background": "light"
     },
     "output_type": "display_data"
    },
    {
     "name": "stdout",
     "output_type": "stream",
     "text": [
      "[[0.9999802]]\n",
      "0.999980\n",
      "yes it is tumorous brain\n"
     ]
    }
   ],
   "source": [
    "from keras.preprocessing.image import load_img,img_to_array\n",
    "\n",
    "path = \"/content/drive/MyDrive/practice folder/brain tumor/val/brain_tumer_yes/y14.jpg\"\n",
    "\n",
    "img = load_img(path,target_size=(224,223))\n",
    "input_arr = img_to_array(img)/255\n",
    "\n",
    "plt.imshow(input_arr)\n",
    "plt.show()\n",
    "input_arr.shape # now it is same as input layer \n",
    "#but we have first dimension as none that we need to update\n",
    "\n",
    "input_arr = np.expand_dims(input_arr,axis = 0)\n",
    "input_arr.shape\n",
    "\n",
    "# pred = model.predict_classes(input_arr)\n",
    "# pred # this is not work above tensore flow 2.5.0\n",
    "\n",
    "### workde ok till this point \n",
    "predict = model.predict(input_arr) \n",
    "print(predict)\n",
    "print(\"{:f}\".format(float(predict)))\n",
    "if predict > 0.5:\n",
    "  print(\"yes it is tumorous brain\")\n",
    "else:\n",
    "  print(\"no it is not tumorous brain \")"
   ]
  },
  {
   "cell_type": "code",
   "execution_count": 39,
   "metadata": {
    "executionInfo": {
     "elapsed": 491,
     "status": "ok",
     "timestamp": 1637686054306,
     "user": {
      "displayName": "Abhishek Dodiya",
      "photoUrl": "https://lh3.googleusercontent.com/a/default-user=s64",
      "userId": "09729067614213961998"
     },
     "user_tz": -330
    },
    "id": "WV4rIJqeqNQD"
   },
   "outputs": [],
   "source": [
    "import decimal"
   ]
  },
  {
   "cell_type": "code",
   "execution_count": 42,
   "metadata": {
    "colab": {
     "base_uri": "https://localhost:8080/"
    },
    "executionInfo": {
     "elapsed": 487,
     "status": "ok",
     "timestamp": 1637686308969,
     "user": {
      "displayName": "Abhishek Dodiya",
      "photoUrl": "https://lh3.googleusercontent.com/a/default-user=s64",
      "userId": "09729067614213961998"
     },
     "user_tz": -330
    },
    "id": "vYOBwtLcsgjx",
    "outputId": "d5166b2c-9de3-4a79-f7af-6c4f85de4fae"
   },
   "outputs": [
    {
     "name": "stdout",
     "output_type": "stream",
     "text": [
      "0.089928\n"
     ]
    }
   ],
   "source": [
    "tmp = decimal.Decimal('8.99284722486562e-02')\n",
    "tmp\n",
    "x = 8.99284722486562e-02\n",
    "print(\"{:f}\".format(x))"
   ]
  },
  {
   "cell_type": "code",
   "execution_count": null,
   "metadata": {
    "id": "gzrbf6HDsi3o"
   },
   "outputs": [],
   "source": []
  }
 ],
 "metadata": {
  "accelerator": "GPU",
  "colab": {
   "authorship_tag": "ABX9TyOedS/u5jibuFT17VpTpNfb",
   "collapsed_sections": [],
   "mount_file_id": "1gbUtQ6ETpqhWw6WJaZkJUSzb_4cCZ4vK",
   "name": "brain tumor_2_.ipynb",
   "provenance": []
  },
  "kernelspec": {
   "display_name": "Python 3",
   "language": "python",
   "name": "python3"
  },
  "language_info": {
   "codemirror_mode": {
    "name": "ipython",
    "version": 3
   },
   "file_extension": ".py",
   "mimetype": "text/x-python",
   "name": "python",
   "nbconvert_exporter": "python",
   "pygments_lexer": "ipython3",
   "version": "3.8.5"
  }
 },
 "nbformat": 4,
 "nbformat_minor": 1
}
